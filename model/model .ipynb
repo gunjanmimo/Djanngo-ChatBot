{
 "metadata": {
  "language_info": {
   "codemirror_mode": {
    "name": "ipython",
    "version": 3
   },
   "file_extension": ".py",
   "mimetype": "text/x-python",
   "name": "python",
   "nbconvert_exporter": "python",
   "pygments_lexer": "ipython3",
   "version": "3.8.3-final"
  },
  "orig_nbformat": 2,
  "kernelspec": {
   "name": "python_defaultSpec_1598735699542",
   "display_name": "Python 3.8.3 64-bit ('base': conda)"
  }
 },
 "nbformat": 4,
 "nbformat_minor": 2,
 "cells": [
  {
   "cell_type": "code",
   "execution_count": 1,
   "metadata": {
    "tags": []
   },
   "outputs": [
    {
     "output_type": "stream",
     "name": "stdout",
     "text": "\u001b[33mWARNING: Retrying (Retry(total=4, connect=None, read=None, redirect=None, status=None)) after connection broken by 'NewConnectionError('<pip._vendor.urllib3.connection.VerifiedHTTPSConnection object at 0x7fba093d4cd0>: Failed to establish a new connection: [Errno 8] nodename nor servname provided, or not known')': /simple/newspaper3k/\u001b[0m\n\u001b[33mWARNING: Retrying (Retry(total=3, connect=None, read=None, redirect=None, status=None)) after connection broken by 'NewConnectionError('<pip._vendor.urllib3.connection.VerifiedHTTPSConnection object at 0x7fba093d4640>: Failed to establish a new connection: [Errno 8] nodename nor servname provided, or not known')': /simple/newspaper3k/\u001b[0m\n\u001b[33mWARNING: Retrying (Retry(total=2, connect=None, read=None, redirect=None, status=None)) after connection broken by 'NewConnectionError('<pip._vendor.urllib3.connection.VerifiedHTTPSConnection object at 0x7fba093d4400>: Failed to establish a new connection: [Errno 8] nodename nor servname provided, or not known')': /simple/newspaper3k/\u001b[0m\n\u001b[33mWARNING: Retrying (Retry(total=1, connect=None, read=None, redirect=None, status=None)) after connection broken by 'NewConnectionError('<pip._vendor.urllib3.connection.VerifiedHTTPSConnection object at 0x7fba093d43d0>: Failed to establish a new connection: [Errno 8] nodename nor servname provided, or not known')': /simple/newspaper3k/\u001b[0m\nCollecting newspaper3k\n  Downloading newspaper3k-0.2.8-py3-none-any.whl (211 kB)\n\u001b[K     |████████████████████████████████| 211 kB 168 kB/s \n\u001b[?25hCollecting tldextract>=2.0.1\n  Downloading tldextract-2.2.3-py2.py3-none-any.whl (48 kB)\n\u001b[K     |████████████████████████████████| 48 kB 5.7 MB/s \n\u001b[?25hCollecting tinysegmenter==0.3\n  Downloading tinysegmenter-0.3.tar.gz (16 kB)\nRequirement already satisfied: nltk>=3.2.1 in /opt/anaconda3/lib/python3.8/site-packages (from newspaper3k) (3.5)\nRequirement already satisfied: python-dateutil>=2.5.3 in /opt/anaconda3/lib/python3.8/site-packages (from newspaper3k) (2.8.1)\nRequirement already satisfied: lxml>=3.6.0 in /opt/anaconda3/lib/python3.8/site-packages (from newspaper3k) (4.5.2)\nRequirement already satisfied: beautifulsoup4>=4.4.1 in /opt/anaconda3/lib/python3.8/site-packages (from newspaper3k) (4.9.1)\nCollecting feedparser>=5.2.1\n  Downloading feedparser-5.2.1.tar.bz2 (192 kB)\n\u001b[K     |████████████████████████████████| 192 kB 1.6 MB/s \n\u001b[?25hRequirement already satisfied: PyYAML>=3.11 in /opt/anaconda3/lib/python3.8/site-packages (from newspaper3k) (5.3.1)\nCollecting jieba3k>=0.35.1\n  Downloading jieba3k-0.35.1.zip (7.4 MB)\n\u001b[K     |████████████████████████████████| 7.4 MB 150 kB/s \n\u001b[?25hRequirement already satisfied: Pillow>=3.3.0 in /opt/anaconda3/lib/python3.8/site-packages (from newspaper3k) (7.2.0)\nCollecting cssselect>=0.9.2\n  Downloading cssselect-1.1.0-py2.py3-none-any.whl (16 kB)\nRequirement already satisfied: requests>=2.10.0 in /opt/anaconda3/lib/python3.8/site-packages (from newspaper3k) (2.24.0)\nCollecting feedfinder2>=0.0.4\n  Downloading feedfinder2-0.0.4.tar.gz (3.3 kB)\nRequirement already satisfied: idna in /opt/anaconda3/lib/python3.8/site-packages (from tldextract>=2.0.1->newspaper3k) (2.10)\nCollecting requests-file>=1.4\n  Downloading requests_file-1.5.1-py2.py3-none-any.whl (3.7 kB)\nRequirement already satisfied: joblib in /opt/anaconda3/lib/python3.8/site-packages (from nltk>=3.2.1->newspaper3k) (0.16.0)\nRequirement already satisfied: click in /opt/anaconda3/lib/python3.8/site-packages (from nltk>=3.2.1->newspaper3k) (7.1.2)\nRequirement already satisfied: tqdm in /opt/anaconda3/lib/python3.8/site-packages (from nltk>=3.2.1->newspaper3k) (4.47.0)\nRequirement already satisfied: regex in /opt/anaconda3/lib/python3.8/site-packages (from nltk>=3.2.1->newspaper3k) (2020.6.8)\nRequirement already satisfied: six>=1.5 in /opt/anaconda3/lib/python3.8/site-packages (from python-dateutil>=2.5.3->newspaper3k) (1.15.0)\nRequirement already satisfied: soupsieve>1.2 in /opt/anaconda3/lib/python3.8/site-packages (from beautifulsoup4>=4.4.1->newspaper3k) (2.0.1)\nRequirement already satisfied: chardet<4,>=3.0.2 in /opt/anaconda3/lib/python3.8/site-packages (from requests>=2.10.0->newspaper3k) (3.0.4)\nRequirement already satisfied: urllib3!=1.25.0,!=1.25.1,<1.26,>=1.21.1 in /opt/anaconda3/lib/python3.8/site-packages (from requests>=2.10.0->newspaper3k) (1.25.9)\nRequirement already satisfied: certifi>=2017.4.17 in /opt/anaconda3/lib/python3.8/site-packages (from requests>=2.10.0->newspaper3k) (2020.6.20)\nBuilding wheels for collected packages: tinysegmenter, feedparser, jieba3k, feedfinder2\n  Building wheel for tinysegmenter (setup.py) ... \u001b[?25ldone\n\u001b[?25h  Created wheel for tinysegmenter: filename=tinysegmenter-0.3-py3-none-any.whl size=13538 sha256=f364fe1fa375566464bc488c166c601c365c06fad8bd63015ce1e8a7e34ea269\n  Stored in directory: /Users/gunjanpaul/Library/Caches/pip/wheels/99/74/83/8fac1c8d9c648cfabebbbffe97a889f6624817f3aa0bbe6c09\n  Building wheel for feedparser (setup.py) ... \u001b[?25ldone\n\u001b[?25h  Created wheel for feedparser: filename=feedparser-5.2.1-py3-none-any.whl size=44939 sha256=2d4eb776aa84b28f884c72776274772b798ec3e408cd6b23e9f9c0bb0db8d89b\n  Stored in directory: /Users/gunjanpaul/Library/Caches/pip/wheels/e8/a3/00/a2395422ba648d592d20ba9b94e7bfcc36c8cf3b5ebdd472fb\n  Building wheel for jieba3k (setup.py) ... \u001b[?25ldone\n\u001b[?25h  Created wheel for jieba3k: filename=jieba3k-0.35.1-py3-none-any.whl size=7398406 sha256=fc8f7d3d6b072681a90d721c0d1bbe39878e548138ce587424afa79c9eb2a91d\n  Stored in directory: /Users/gunjanpaul/Library/Caches/pip/wheels/1f/7e/0c/54f3b0f5164278677899f2db08f2b07943ce2d024a3c862afb\n  Building wheel for feedfinder2 (setup.py) ... \u001b[?25ldone\n\u001b[?25h  Created wheel for feedfinder2: filename=feedfinder2-0.0.4-py3-none-any.whl size=3355 sha256=279f925f0e945d81ed255f3ba0f5eff7799bf8b627c2b003251749fbe098215f\n  Stored in directory: /Users/gunjanpaul/Library/Caches/pip/wheels/b6/09/68/a9f15498ac02c23dde29f18745bc6a6f574ba4ab41861a3575\nSuccessfully built tinysegmenter feedparser jieba3k feedfinder2\nInstalling collected packages: requests-file, tldextract, tinysegmenter, feedparser, jieba3k, cssselect, feedfinder2, newspaper3k\nSuccessfully installed cssselect-1.1.0 feedfinder2-0.0.4 feedparser-5.2.1 jieba3k-0.35.1 newspaper3k-0.2.8 requests-file-1.5.1 tinysegmenter-0.3 tldextract-2.2.3\n"
    }
   ],
   "source": [
    "# ! pip install nltk\n",
    "# !pip install newspaper3k"
   ]
  },
  {
   "cell_type": "code",
   "execution_count": 2,
   "metadata": {},
   "outputs": [],
   "source": [
    "# importing libraries\n",
    "from newspaper import Article\n",
    "import random\n",
    "import string\n",
    "import nltk\n",
    "from sklearn.feature_extraction.text import CountVectorizer\n",
    "from sklearn.metrics.pairwise import cosine_similarity\n",
    "import numpy as np\n",
    "import warnings\n",
    "warnings.filterwarnings('ignore')"
   ]
  },
  {
   "cell_type": "code",
   "execution_count": 3,
   "metadata": {
    "tags": []
   },
   "outputs": [
    {
     "output_type": "stream",
     "name": "stderr",
     "text": "[nltk_data] Downloading package punkt to\n[nltk_data]     /Users/gunjanpaul/nltk_data...\n[nltk_data]   Package punkt is already up-to-date!\n"
    },
    {
     "output_type": "execute_result",
     "data": {
      "text/plain": "True"
     },
     "metadata": {},
     "execution_count": 3
    }
   ],
   "source": [
    "# download the punkt\n",
    "nltk.download('punkt')"
   ]
  },
  {
   "cell_type": "code",
   "execution_count": 7,
   "metadata": {},
   "outputs": [],
   "source": [
    "# get article \n",
    "article = Article('https://www.mayoclinic.org/diseases-conditions/chronic-kidney-disease/symptoms-causes/syc-20354521')\n",
    "article.download()\n",
    "article.parse()\n",
    "article.nlp()\n",
    "corpus = article.text"
   ]
  },
  {
   "cell_type": "code",
   "execution_count": 8,
   "metadata": {
    "tags": []
   },
   "outputs": [
    {
     "output_type": "stream",
     "name": "stdout",
     "text": "Overview\n\nChronic kidney disease, also called chronic kidney failure, describes the gradual loss of kidney function. Your kidneys filter wastes and excess fluids from your blood, which are then excreted in your urine. When chronic kidney disease reaches an advanced stage, dangerous levels of fluid, electrolytes and wastes can build up in your body.\n\nIn the early stages of chronic kidney disease, you may have few signs or symptoms. Chronic kidney disease may not become apparent until your kidney function is significantly impaired.\n\nTreatment for chronic kidney disease focuses on slowing the progression of the kidney damage, usually by controlling the underlying cause. Chronic kidney disease can progress to end-stage kidney failure, which is fatal without artificial filtering (dialysis) or a kidney transplant.\n\nChronic kidney disease care at Mayo Clinic\n\nHow kidneys work\n\nSymptoms\n\nSigns and symptoms of chronic kidney disease develop over time if kidney damage progresses slowly. Signs and symptoms of kidney disease may include:\n\nNausea\n\nVomiting\n\nLoss of appetite\n\nFatigue and weakness\n\nSleep problems\n\nChanges in how much you urinate\n\nDecreased mental sharpness\n\nMuscle twitches and cramps\n\nSwelling of feet and ankles\n\nPersistent itching\n\nChest pain, if fluid builds up around the lining of the heart\n\nShortness of breath, if fluid builds up in the lungs\n\nHigh blood pressure (hypertension) that's difficult to control\n\nSigns and symptoms of kidney disease are often nonspecific, meaning they can also be caused by other illnesses. Because your kidneys are highly adaptable and able to compensate for lost function, signs and symptoms may not appear until irreversible damage has occurred.\n\nWhen to see a doctor\n\nMake an appointment with your doctor if you have any signs or symptoms of kidney disease.\n\nIf you have a medical condition that increases your risk of kidney disease, your doctor is likely to monitor your blood pressure and kidney function with urine and blood tests during regular office visits. Ask your doctor whether these tests are necessary for you.\n\nCauses\n\nNormal kidney vs. diseased kidney Open pop-up dialog box Close Normal kidney vs. diseased kidney Normal kidney vs. diseased kidney A normal kidney has about 1 million filtering units. Each unit, called a glomerulus, connects to a tubule, which collects urine. Conditions such as high blood pressure and diabetes take a toll on kidney function by damaging these filtering units and collecting tubules and causing scarring.\n\nPolycystic kidney Open pop-up dialog box Close Polycystic kidney Polycystic kidney A healthy kidney (left) eliminates waste from the blood and maintains the body's normal chemical balance. With polycystic kidney disease (right), fluid-filled sacs called cysts develop in the kidneys, causing them to grow larger and gradually lose their ability to function normally.\n\nChronic kidney disease occurs when a disease or condition impairs kidney function, causing kidney damage to worsen over several months or years.\n\nDiseases and conditions that cause chronic kidney disease include:\n\nType 1 or type 2 diabetes\n\nHigh blood pressure\n\nGlomerulonephritis (gloe-mer-u-low-nuh-FRY-tis), an inflammation of the kidney's filtering units (glomeruli)\n\nInterstitial nephritis (in-tur-STISH-ul nuh-FRY-tis), an inflammation of the kidney's tubules and surrounding structures\n\nPolycystic kidney disease\n\nProlonged obstruction of the urinary tract, from conditions such as enlarged prostate, kidney stones and some cancers\n\nVesicoureteral (ves-ih-koe-yoo-REE-tur-ul) reflux, a condition that causes urine to back up into your kidneys\n\nRecurrent kidney infection, also called pyelonephritis (pie-uh-low-nuh-FRY-tis)\n\nRisk factors\n\nFactors that may increase your risk of chronic kidney disease include:\n\nDiabetes\n\nHigh blood pressure\n\nHeart and blood vessel (cardiovascular) disease\n\nSmoking\n\nObesity\n\nBeing African-American, Native American or Asian-American\n\nFamily history of kidney disease\n\nAbnormal kidney structure\n\nOlder age\n\nComplications\n\nChronic kidney disease can affect almost every part of your body. Potential complications may include:\n\nFluid retention, which could lead to swelling in your arms and legs, high blood pressure, or fluid in your lungs (pulmonary edema)\n\nA sudden rise in potassium levels in your blood (hyperkalemia), which could impair your heart's ability to function and may be life-threatening\n\nHeart and blood vessel (cardiovascular) disease\n\nWeak bones and an increased risk of bone fractures\n\nAnemia\n\nDecreased sex drive, erectile dysfunction or reduced fertility\n\nDamage to your central nervous system, which can cause difficulty concentrating, personality changes or seizures\n\nDecreased immune response, which makes you more vulnerable to infection\n\nPericarditis, an inflammation of the saclike membrane that envelops your heart (pericardium)\n\nPregnancy complications that carry risks for the mother and the developing fetus\n\nIrreversible damage to your kidneys (end-stage kidney disease), eventually requiring either dialysis or a kidney transplant for survival\n\nPrevention\n\nTo reduce your risk of developing kidney disease:\n"
    }
   ],
   "source": [
    "print(corpus)"
   ]
  },
  {
   "cell_type": "code",
   "execution_count": 9,
   "metadata": {},
   "outputs": [],
   "source": [
    "# tokenization\n",
    "text = corpus\n",
    "sentence_list = nltk.sent_tokenize(text)"
   ]
  },
  {
   "cell_type": "code",
   "execution_count": 10,
   "metadata": {},
   "outputs": [
    {
     "output_type": "execute_result",
     "data": {
      "text/plain": "['Overview\\n\\nChronic kidney disease, also called chronic kidney failure, describes the gradual loss of kidney function.',\n 'Your kidneys filter wastes and excess fluids from your blood, which are then excreted in your urine.',\n 'When chronic kidney disease reaches an advanced stage, dangerous levels of fluid, electrolytes and wastes can build up in your body.',\n 'In the early stages of chronic kidney disease, you may have few signs or symptoms.',\n 'Chronic kidney disease may not become apparent until your kidney function is significantly impaired.',\n 'Treatment for chronic kidney disease focuses on slowing the progression of the kidney damage, usually by controlling the underlying cause.',\n 'Chronic kidney disease can progress to end-stage kidney failure, which is fatal without artificial filtering (dialysis) or a kidney transplant.',\n 'Chronic kidney disease care at Mayo Clinic\\n\\nHow kidneys work\\n\\nSymptoms\\n\\nSigns and symptoms of chronic kidney disease develop over time if kidney damage progresses slowly.',\n \"Signs and symptoms of kidney disease may include:\\n\\nNausea\\n\\nVomiting\\n\\nLoss of appetite\\n\\nFatigue and weakness\\n\\nSleep problems\\n\\nChanges in how much you urinate\\n\\nDecreased mental sharpness\\n\\nMuscle twitches and cramps\\n\\nSwelling of feet and ankles\\n\\nPersistent itching\\n\\nChest pain, if fluid builds up around the lining of the heart\\n\\nShortness of breath, if fluid builds up in the lungs\\n\\nHigh blood pressure (hypertension) that's difficult to control\\n\\nSigns and symptoms of kidney disease are often nonspecific, meaning they can also be caused by other illnesses.\",\n 'Because your kidneys are highly adaptable and able to compensate for lost function, signs and symptoms may not appear until irreversible damage has occurred.',\n 'When to see a doctor\\n\\nMake an appointment with your doctor if you have any signs or symptoms of kidney disease.',\n 'If you have a medical condition that increases your risk of kidney disease, your doctor is likely to monitor your blood pressure and kidney function with urine and blood tests during regular office visits.',\n 'Ask your doctor whether these tests are necessary for you.',\n 'Causes\\n\\nNormal kidney vs. diseased kidney Open pop-up dialog box Close Normal kidney vs. diseased kidney Normal kidney vs. diseased kidney A normal kidney has about 1 million filtering units.',\n 'Each unit, called a glomerulus, connects to a tubule, which collects urine.',\n 'Conditions such as high blood pressure and diabetes take a toll on kidney function by damaging these filtering units and collecting tubules and causing scarring.',\n \"Polycystic kidney Open pop-up dialog box Close Polycystic kidney Polycystic kidney A healthy kidney (left) eliminates waste from the blood and maintains the body's normal chemical balance.\",\n 'With polycystic kidney disease (right), fluid-filled sacs called cysts develop in the kidneys, causing them to grow larger and gradually lose their ability to function normally.',\n 'Chronic kidney disease occurs when a disease or condition impairs kidney function, causing kidney damage to worsen over several months or years.',\n \"Diseases and conditions that cause chronic kidney disease include:\\n\\nType 1 or type 2 diabetes\\n\\nHigh blood pressure\\n\\nGlomerulonephritis (gloe-mer-u-low-nuh-FRY-tis), an inflammation of the kidney's filtering units (glomeruli)\\n\\nInterstitial nephritis (in-tur-STISH-ul nuh-FRY-tis), an inflammation of the kidney's tubules and surrounding structures\\n\\nPolycystic kidney disease\\n\\nProlonged obstruction of the urinary tract, from conditions such as enlarged prostate, kidney stones and some cancers\\n\\nVesicoureteral (ves-ih-koe-yoo-REE-tur-ul) reflux, a condition that causes urine to back up into your kidneys\\n\\nRecurrent kidney infection, also called pyelonephritis (pie-uh-low-nuh-FRY-tis)\\n\\nRisk factors\\n\\nFactors that may increase your risk of chronic kidney disease include:\\n\\nDiabetes\\n\\nHigh blood pressure\\n\\nHeart and blood vessel (cardiovascular) disease\\n\\nSmoking\\n\\nObesity\\n\\nBeing African-American, Native American or Asian-American\\n\\nFamily history of kidney disease\\n\\nAbnormal kidney structure\\n\\nOlder age\\n\\nComplications\\n\\nChronic kidney disease can affect almost every part of your body.\",\n \"Potential complications may include:\\n\\nFluid retention, which could lead to swelling in your arms and legs, high blood pressure, or fluid in your lungs (pulmonary edema)\\n\\nA sudden rise in potassium levels in your blood (hyperkalemia), which could impair your heart's ability to function and may be life-threatening\\n\\nHeart and blood vessel (cardiovascular) disease\\n\\nWeak bones and an increased risk of bone fractures\\n\\nAnemia\\n\\nDecreased sex drive, erectile dysfunction or reduced fertility\\n\\nDamage to your central nervous system, which can cause difficulty concentrating, personality changes or seizures\\n\\nDecreased immune response, which makes you more vulnerable to infection\\n\\nPericarditis, an inflammation of the saclike membrane that envelops your heart (pericardium)\\n\\nPregnancy complications that carry risks for the mother and the developing fetus\\n\\nIrreversible damage to your kidneys (end-stage kidney disease), eventually requiring either dialysis or a kidney transplant for survival\\n\\nPrevention\\n\\nTo reduce your risk of developing kidney disease:\"]"
     },
     "metadata": {},
     "execution_count": 10
    }
   ],
   "source": [
    "sentence_list"
   ]
  },
  {
   "cell_type": "code",
   "execution_count": 11,
   "metadata": {},
   "outputs": [],
   "source": [
    "# function to return random greeting response\n",
    "def greeting_response(text):\n",
    "  text = text.lower()\n",
    "\n",
    "  #bot greeting response \n",
    "  bot_greetings = ['howdy','hi','hello','hola']\n",
    "  # user greetings\n",
    "  user_greetings = ['hi','hey','hello','greetings','wassup']\n",
    "\n",
    "  for word in text.split():\n",
    "    if word in user_greetings:\n",
    "      return random.choice(bot_greetings)\n",
    "  "
   ]
  },
  {
   "cell_type": "code",
   "execution_count": 12,
   "metadata": {},
   "outputs": [],
   "source": [
    "def index_sort(a):\n",
    "  length = len(a)\n",
    "  list_index = list(range(0,length))\n",
    "\n",
    "  x = a\n",
    "  for i in range(length):\n",
    "    for j in range(length):\n",
    "      if x[list_index[i]]>x[list_index[j]]:\n",
    "        #swap\n",
    "        temp = list_index[i]\n",
    "        list_index[i]=list_index[j]\n",
    "        list_index[j] = temp\n",
    "    return list_index"
   ]
  },
  {
   "cell_type": "code",
   "execution_count": 13,
   "metadata": {},
   "outputs": [],
   "source": [
    "# creating bot response\n",
    "def bot_response(user_input):\n",
    "  user_input = user_input.lower()\n",
    "  sentence_list.append(user_input)\n",
    "  bot_response = ''\n",
    "  cm = CountVectorizer().fit_transform(sentence_list)\n",
    "  similarity_score = cosine_similarity(cm[-1], cm)\n",
    "  similarity_score_list = similarity_score.flatten()\n",
    "  index = index_sort(similarity_score_list)\n",
    "  index = index[1:]\n",
    "  response_flag = 0\n",
    "\n",
    "\n",
    "  j  = 0\n",
    "  for i in range(len(index)):\n",
    "    if similarity_score_list[index[i]]>0.0:\n",
    "      bot_response = bot_response + \" \"+sentence_list[index[i]]\n",
    "      response_flag = 1\n",
    "      j = j+1\n",
    "    if j>2:\n",
    "      break\n",
    "  if response_flag == 0:\n",
    "    bot_response = bot_response+\" \"+ \"I am soory, I don't understand \"\n",
    "    \n",
    "  sentence_list.remove(user_input)\n",
    "\n",
    "  return bot_response\n"
   ]
  },
  {
   "cell_type": "code",
   "execution_count": 14,
   "metadata": {
    "tags": []
   },
   "outputs": [
    {
     "output_type": "stream",
     "name": "stdout",
     "text": "Doc Bot: I am a doctor bot. I will answer your questions. If want to exit, type BYE\nDoc Bot:  In the early stages of chronic kidney disease, you may have few signs or symptoms. Chronic kidney disease care at Mayo Clinic\n\nHow kidneys work\n\nSymptoms\n\nSigns and symptoms of chronic kidney disease develop over time if kidney damage progresses slowly. Signs and symptoms of kidney disease may include:\n\nNausea\n\nVomiting\n\nLoss of appetite\n\nFatigue and weakness\n\nSleep problems\n\nChanges in how much you urinate\n\nDecreased mental sharpness\n\nMuscle twitches and cramps\n\nSwelling of feet and ankles\n\nPersistent itching\n\nChest pain, if fluid builds up around the lining of the heart\n\nShortness of breath, if fluid builds up in the lungs\n\nHigh blood pressure (hypertension) that's difficult to control\n\nSigns and symptoms of kidney disease are often nonspecific, meaning they can also be caused by other illnesses.\nDoc Bot:  Causes\n\nNormal kidney vs. diseased kidney Open pop-up dialog box Close Normal kidney vs. diseased kidney Normal kidney vs. diseased kidney A normal kidney has about 1 million filtering units. Diseases and conditions that cause chronic kidney disease include:\n\nType 1 or type 2 diabetes\n\nHigh blood pressure\n\nGlomerulonephritis (gloe-mer-u-low-nuh-FRY-tis), an inflammation of the kidney's filtering units (glomeruli)\n\nInterstitial nephritis (in-tur-STISH-ul nuh-FRY-tis), an inflammation of the kidney's tubules and surrounding structures\n\nPolycystic kidney disease\n\nProlonged obstruction of the urinary tract, from conditions such as enlarged prostate, kidney stones and some cancers\n\nVesicoureteral (ves-ih-koe-yoo-REE-tur-ul) reflux, a condition that causes urine to back up into your kidneys\n\nRecurrent kidney infection, also called pyelonephritis (pie-uh-low-nuh-FRY-tis)\n\nRisk factors\n\nFactors that may increase your risk of chronic kidney disease include:\n\nDiabetes\n\nHigh blood pressure\n\nHeart and blood vessel (cardiovascular) disease\n\nSmoking\n\nObesity\n\nBeing African-American, Native American or Asian-American\n\nFamily history of kidney disease\n\nAbnormal kidney structure\n\nOlder age\n\nComplications\n\nChronic kidney disease can affect almost every part of your body. causes\nDoc BOt: Thank you for using me\n"
    }
   ],
   "source": [
    "# start the chat \n",
    "print(\"Doc Bot: I am a doctor bot. I will answer your questions. If want to exit, type BYE\")\n",
    "\n",
    "exit_list = ['exit','see you later','break','quit','bye']\n",
    "while(True):\n",
    "  user_input = input()\n",
    "  if user_input.lower() in exit_list:\n",
    "    print(\"Doc BOt: Thank you for using me\")\n",
    "    break\n",
    "  else:\n",
    "    if greeting_response(user_input) != None:\n",
    "      print(\"Doc Bot: \"+greeting_response(user_input))\n",
    "    else: \n",
    "      print(\"Doc Bot: \"+bot_response(user_input))\n"
   ]
  },
  {
   "cell_type": "code",
   "execution_count": null,
   "metadata": {},
   "outputs": [],
   "source": []
  }
 ]
}